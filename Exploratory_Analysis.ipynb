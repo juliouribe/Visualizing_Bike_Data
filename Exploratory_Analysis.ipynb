{
 "cells": [
  {
   "cell_type": "markdown",
   "metadata": {},
   "source": [
    "# Exploratory Analysis of Bike Data\n",
    "In this project I will explore bike data from Ford GoBikes. I will focus on operational questions such as, how long are customers riding bikes, which stations are frequented the most, and if we can re-allocate bikes during the day where should we move bikes to? I'll try to learn as much as possible about how people use bikes using mainly plots"
   ]
  },
  {
   "cell_type": "markdown",
   "metadata": {},
   "source": [
    "## Setup"
   ]
  },
  {
   "cell_type": "code",
   "execution_count": 3,
   "metadata": {},
   "outputs": [],
   "source": [
    "# prerequisite package imports\n",
    "import numpy as np\n",
    "import pandas as pd\n",
    "import matplotlib.pyplot as plt\n",
    "import seaborn as sb\n",
    "\n",
    "%matplotlib inline"
   ]
  },
  {
   "cell_type": "markdown",
   "metadata": {},
   "source": [
    "## Compare two data sets from 2017 and 2019 April"
   ]
  },
  {
   "cell_type": "code",
   "execution_count": 8,
   "metadata": {},
   "outputs": [
    {
     "name": "stdout",
     "output_type": "stream",
     "text": [
      "<class 'pandas.core.frame.DataFrame'>\n",
      "RangeIndex: 519700 entries, 0 to 519699\n",
      "Data columns (total 15 columns):\n",
      "duration_sec               519700 non-null int64\n",
      "start_time                 519700 non-null object\n",
      "end_time                   519700 non-null object\n",
      "start_station_id           519700 non-null int64\n",
      "start_station_name         519700 non-null object\n",
      "start_station_latitude     519700 non-null float64\n",
      "start_station_longitude    519700 non-null float64\n",
      "end_station_id             519700 non-null int64\n",
      "end_station_name           519700 non-null object\n",
      "end_station_latitude       519700 non-null float64\n",
      "end_station_longitude      519700 non-null float64\n",
      "bike_id                    519700 non-null int64\n",
      "user_type                  519700 non-null object\n",
      "member_birth_year          453159 non-null float64\n",
      "member_gender              453238 non-null object\n",
      "dtypes: float64(5), int64(4), object(6)\n",
      "memory usage: 59.5+ MB\n"
     ]
    }
   ],
   "source": [
    "# Load dataset\n",
    "bike_data_2017 = pd.read_csv('2017-fordgobike-tripdata.csv')\n",
    "bike_data_2017.info()"
   ]
  },
  {
   "cell_type": "code",
   "execution_count": 9,
   "metadata": {},
   "outputs": [
    {
     "name": "stdout",
     "output_type": "stream",
     "text": [
      "<class 'pandas.core.frame.DataFrame'>\n",
      "RangeIndex: 239111 entries, 0 to 239110\n",
      "Data columns (total 16 columns):\n",
      "duration_sec               239111 non-null int64\n",
      "start_time                 239111 non-null object\n",
      "end_time                   239111 non-null object\n",
      "start_station_id           239047 non-null float64\n",
      "start_station_name         239047 non-null object\n",
      "start_station_latitude     239111 non-null float64\n",
      "start_station_longitude    239111 non-null float64\n",
      "end_station_id             239047 non-null float64\n",
      "end_station_name           239047 non-null object\n",
      "end_station_latitude       239111 non-null float64\n",
      "end_station_longitude      239111 non-null float64\n",
      "bike_id                    239111 non-null int64\n",
      "user_type                  239111 non-null object\n",
      "member_birth_year          227912 non-null float64\n",
      "member_gender              227912 non-null object\n",
      "bike_share_for_all_trip    239111 non-null object\n",
      "dtypes: float64(7), int64(2), object(7)\n",
      "memory usage: 29.2+ MB\n"
     ]
    }
   ],
   "source": [
    "bike_data_201904 = pd.read_csv('201904-fordgobike-tripdata.csv')\n",
    "bike_data_201904.info()"
   ]
  },
  {
   "cell_type": "markdown",
   "metadata": {},
   "source": [
    "### Tables have a few differences so we need to do some cleaning\n",
    "Tidiness Issues\n",
    "- trip ID would be useful for indexing purposes\n",
    "- stations are 'int' type in 2017 and 'float' in the 2019 data set.\n",
    "- bike_share_for_all_trip column doesn't exist in 2017 data set. We can create it and fill it with NaN's\n"
   ]
  },
  {
   "cell_type": "code",
   "execution_count": 12,
   "metadata": {},
   "outputs": [
    {
     "data": {
      "text/plain": [
       "San Francisco Ferry Building (Harry Bridges Plaza)                 15187\n",
       "The Embarcadero at Sansome St                                      13664\n",
       "San Francisco Caltrain (Townsend St at 4th St)                     12546\n",
       "San Francisco Caltrain Station 2  (Townsend St at 4th St)          12055\n",
       "Market St at 10th St                                               11960\n",
       "Montgomery St BART Station (Market St at 2nd St)                   11334\n",
       "Berry St at 4th St                                                 10956\n",
       "Powell St BART Station (Market St at 4th St)                       10142\n",
       "Howard St at Beale St                                               9926\n",
       "Steuart St at Market St                                             9347\n",
       "Powell St BART Station (Market St at 5th St)                        7987\n",
       "Embarcadero BART Station (Beale St at Market St)                    7649\n",
       "2nd St at Townsend St - Coming Soon                                 6605\n",
       "3rd St at Townsend St                                               6414\n",
       "Townsend St at 7th St                                               6223\n",
       "The Embarcadero at Steuart St                                       5980\n",
       "2nd St at S Park St                                                 5785\n",
       "Howard St at 2nd St                                                 5732\n",
       "Union Square (Powell St at Post St)                                 5609\n",
       "19th Street BART Station                                            5558\n",
       "Civic Center/UN Plaza BART Station (Market St at McAllister St)     5497\n",
       "Post St at Kearny St                                                4842\n",
       "Spear St at Folsom St                                               4798\n",
       "S Van Ness Ave at Market St                                         4795\n",
       "The Embarcadero at Bryant St                                        4750\n",
       "Mechanics Monument Plaza (Market St at Bush St)                     4656\n",
       "5th St at Howard St                                                 4648\n",
       "2nd St at Folsom St                                                 4600\n",
       "Broadway at Kearny                                                  4511\n",
       "The Embarcadero at Vallejo St                                       4269\n",
       "                                                                   ...  \n",
       "14th St at Filbert St                                                105\n",
       "Ninth St at Heinz Ave                                                 94\n",
       "Fruitvale Ave at International Blvd                                   71\n",
       "San Pablo Ave at 27th St                                              62\n",
       "Telegraph Ave at Carleton St                                          61\n",
       "13th St at Franklin St                                                61\n",
       "Mission St at 1st St                                                  61\n",
       "Ninth St at Parker St                                                 60\n",
       "College Ave at Bryant Ave                                             59\n",
       "Vine St at Shattuck Ave                                               58\n",
       "Delmas Ave and San Fernando St                                        56\n",
       "21st Ave at International Blvd                                        54\n",
       "Dolores St at 22nd St                                                 47\n",
       "26th Ave at International Blvd                                        41\n",
       "Foothill Blvd at 42nd Ave                                             39\n",
       "Webster St at 19th St                                                 37\n",
       "Channing Way at San Pablo Ave                                         35\n",
       "Willow St at Vine St                                                  30\n",
       "Palm St at Willow St                                                  29\n",
       "Foothill Blvd at Harrington Ave                                       28\n",
       "University Ave at Oxford St                                           24\n",
       "Fruitvale BART Station                                                24\n",
       "Derby St at College Ave                                               16\n",
       "Bestor Art Park                                                       15\n",
       "W St John St at Guadalupe River Trail                                 15\n",
       "Pierce Ave at Market St                                               11\n",
       "Harmon St at Adeline St                                                6\n",
       "Empire St at 1st St                                                    5\n",
       "Jackson St at 11th St                                                  2\n",
       "Ellsworth St at Russell St                                             1\n",
       "Name: start_station_name, Length: 272, dtype: int64"
      ]
     },
     "execution_count": 12,
     "metadata": {},
     "output_type": "execute_result"
    }
   ],
   "source": [
    "# 272 stations\n",
    "bike_data_2017.start_station_name.value_counts()"
   ]
  },
  {
   "cell_type": "code",
   "execution_count": 13,
   "metadata": {},
   "outputs": [
    {
     "data": {
      "text/plain": [
       "San Francisco Caltrain Station 2  (Townsend St at 4th St)          4866\n",
       "Market St at 10th St                                               4609\n",
       "San Francisco Ferry Building (Harry Bridges Plaza)                 4270\n",
       "Berry St at 4th St                                                 3994\n",
       "Montgomery St BART Station (Market St at 2nd St)                   3550\n",
       "Powell St BART Station (Market St at 4th St)                       3422\n",
       "Powell St BART Station (Market St at 5th St)                       3390\n",
       "San Francisco Caltrain (Townsend St at 4th St)                     3322\n",
       "Steuart St at Market St                                            3173\n",
       "The Embarcadero at Sansome St                                      2941\n",
       "Howard St at Beale St                                              2760\n",
       "2nd St at Townsend St                                              2622\n",
       "Civic Center/UN Plaza BART Station (Market St at McAllister St)    2358\n",
       "3rd St at Townsend St                                              2303\n",
       "Embarcadero BART Station (Beale St at Market St)                   2131\n",
       "Bancroft Way at College Ave                                        2118\n",
       "4th St at Mission Bay Blvd S                                       2085\n",
       "Beale St at Harrison St                                            2083\n",
       "Townsend St at 7th St                                              1894\n",
       "The Embarcadero at Steuart St                                      1890\n",
       "Bancroft Way at Telegraph Ave                                      1851\n",
       "Howard St at 8th St                                                1797\n",
       "4th St at 16th St                                                  1745\n",
       "5th St at Folsom                                                   1714\n",
       "Esprit Park                                                        1678\n",
       "Post St at Kearny St                                               1639\n",
       "Downtown Berkeley BART                                             1567\n",
       "Townsend St at 5th St                                              1547\n",
       "8th St at Brannan St                                               1516\n",
       "Rhode Island St at 17th St                                         1515\n",
       "                                                                   ... \n",
       "Backesto Park (Jackson St at 13th St)                                42\n",
       "Williams Ave at Apollo St                                            41\n",
       "Williams Ave at 3rd St                                               37\n",
       "26th Ave at International Blvd                                       37\n",
       "Foothill Blvd at Harrington Ave                                      34\n",
       "Illinois St at Cesar Chavez St                                       32\n",
       "10th St at Mission St                                                29\n",
       "Oak St at 1st St                                                     29\n",
       "Bird Ave at Coe Ave                                                  27\n",
       "23rd Ave at Foothill Blvd                                            26\n",
       "Kerley Dr at Rosemary St                                             26\n",
       "Palm St at Willow St                                                 25\n",
       "1st St at Younger Ave                                                24\n",
       "Empire St at 7th St                                                  24\n",
       "10th St at Empire St                                                 22\n",
       "Asbury St at The Alameda                                             22\n",
       "Parkmoor Ave at Race St                                              20\n",
       "Skyport Dr at Technology Dr                                          20\n",
       "Gish Rd at 1st St                                                    20\n",
       "Foothill Blvd at 42nd Ave                                            18\n",
       "Willow St at Vine St                                                 17\n",
       "21st Ave at International Blvd                                       16\n",
       "San Pedro St at Hedding St                                           16\n",
       "Park Ave at Race St                                                  16\n",
       "Sonora Ave at 1st St                                                 14\n",
       "Auzerais Ave at Los Gatos Creek Trail                                10\n",
       "Farnam St at Fruitvale Ave                                            9\n",
       "17th St at Santa Clara St                                             8\n",
       "Delmas Ave at Virginia St                                             5\n",
       "SF Test Station                                                       1\n",
       "Name: start_station_name, Length: 357, dtype: int64"
      ]
     },
     "execution_count": 13,
     "metadata": {},
     "output_type": "execute_result"
    }
   ],
   "source": [
    "# 357 stations\n",
    "bike_data_201904.start_station_name.value_counts()"
   ]
  },
  {
   "cell_type": "code",
   "execution_count": null,
   "metadata": {},
   "outputs": [],
   "source": []
  },
  {
   "cell_type": "code",
   "execution_count": null,
   "metadata": {},
   "outputs": [],
   "source": []
  },
  {
   "cell_type": "code",
   "execution_count": null,
   "metadata": {},
   "outputs": [],
   "source": []
  },
  {
   "cell_type": "code",
   "execution_count": null,
   "metadata": {},
   "outputs": [],
   "source": []
  },
  {
   "cell_type": "code",
   "execution_count": null,
   "metadata": {},
   "outputs": [],
   "source": []
  },
  {
   "cell_type": "code",
   "execution_count": null,
   "metadata": {},
   "outputs": [],
   "source": []
  },
  {
   "cell_type": "code",
   "execution_count": null,
   "metadata": {},
   "outputs": [],
   "source": []
  },
  {
   "cell_type": "code",
   "execution_count": null,
   "metadata": {},
   "outputs": [],
   "source": []
  },
  {
   "cell_type": "code",
   "execution_count": null,
   "metadata": {},
   "outputs": [],
   "source": []
  },
  {
   "cell_type": "code",
   "execution_count": null,
   "metadata": {},
   "outputs": [],
   "source": []
  },
  {
   "cell_type": "code",
   "execution_count": null,
   "metadata": {},
   "outputs": [],
   "source": []
  }
 ],
 "metadata": {
  "kernelspec": {
   "display_name": "Python 3",
   "language": "python",
   "name": "python3"
  },
  "language_info": {
   "codemirror_mode": {
    "name": "ipython",
    "version": 3
   },
   "file_extension": ".py",
   "mimetype": "text/x-python",
   "name": "python",
   "nbconvert_exporter": "python",
   "pygments_lexer": "ipython3",
   "version": "3.6.7"
  }
 },
 "nbformat": 4,
 "nbformat_minor": 2
}
