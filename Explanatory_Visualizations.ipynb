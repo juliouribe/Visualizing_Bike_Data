{
 "cells": [
  {
   "cell_type": "code",
   "execution_count": null,
   "metadata": {},
   "outputs": [],
   "source": [
    "# prerequisite package imports\n",
    "import numpy as np\n",
    "import pandas as pd\n",
    "import matplotlib.pyplot as plt\n",
    "import seaborn as sb\n",
    "\n",
    "%matplotlib inline"
   ]
  },
  {
   "cell_type": "code",
   "execution_count": null,
   "metadata": {},
   "outputs": [],
   "source": [
    "# load data set and make a copy\n",
    "bikes = pd.read_csv('bikes_master.csv')\n",
    "bikes_copy = bikes.copy()"
   ]
  },
  {
   "cell_type": "code",
   "execution_count": null,
   "metadata": {},
   "outputs": [],
   "source": [
    "# cleaning operations\n",
    "# create duration in mins column\n",
    "bikes_copy['duration_min'] = bikes_copy['duration_sec']/60\n",
    "bikes_copy.duration_min.describe()\n",
    "# change data type to datetime\n",
    "bikes_copy['start_time'] = pd.to_datetime(bikes_copy['start_time'])\n",
    "# rearrange columns for personal preference\n",
    "bikes_copy = bikes_copy[['duration_sec', 'duration_min', 'start_time', 'end_time', 'start_station_id',\n",
    "       'start_station_name',  'end_station_id', 'end_station_name', 'bike_id', 'user_type', 'member_birth_year', \n",
    "        'member_gender', 'start_station_latitude', 'start_station_longitude', 'end_station_latitude', 'end_station_longitude',\n",
    "                          'bike_share_for_all_trip']]\n",
    "# reduce rides lasting more than 6 hours\n",
    "bikes_copy = bikes_copy.query(\"duration_min < 360\")\n",
    "# filter for gps location (inside SF)\n",
    "bikes_copy = bikes_copy.query(\"start_station_latitude >= 37.707000 and start_station_latitude < 37.8100000 and start_station_longitude > -122.51000 and start_station_longitude <= -122.3700000\")\n",
    "bikes_copy = bikes_copy.query(\"end_station_latitude >= 37.707000 and end_station_latitude < 37.8100000 and end_station_longitude > -122.51000 and end_station_longitude <= -122.3700000\")"
   ]
  },
  {
   "cell_type": "code",
   "execution_count": null,
   "metadata": {},
   "outputs": [],
   "source": [
    "# create a large sample of data for faster processing time 1.3 million rows is a lot\n",
    "sf_bikes = bikes_copy.sample(100000, replace=True)"
   ]
  },
  {
   "cell_type": "markdown",
   "metadata": {},
   "source": [
    "## User Types as a Proportion"
   ]
  },
  {
   "cell_type": "code",
   "execution_count": null,
   "metadata": {},
   "outputs": [],
   "source": [
    "n_points = sf_bikes.shape[0]\n",
    "max_count = sf_bikes['user_type'].value_counts().max()\n",
    "max_prop = max_count / n_points\n",
    "\n",
    "# generate tick mark locations and names\n",
    "tick_props = np.arange(0, max_prop+0.1, 0.10)\n",
    "tick_names = ['{:0.2f}'.format(v) for v in tick_props]\n",
    "\n",
    "# create the plot\n",
    "base_color = sb.color_palette()[3]\n",
    "plt.yticks(tick_props * n_points, tick_names)\n",
    "sb.countplot(data = sf_bikes, x = 'user_type', color = base_color)\n",
    "plt.ylabel('Proportion')\n",
    "plt.xlabel('User Type');"
   ]
  },
  {
   "cell_type": "markdown",
   "metadata": {},
   "source": [
    "## Usage Throughout the Day"
   ]
  },
  {
   "cell_type": "code",
   "execution_count": null,
   "metadata": {},
   "outputs": [],
   "source": [
    "plt.figure(figsize = (14,5))\n",
    "base_color = sb.color_palette()[2]\n",
    "# hours = ['12am', '1am', '2am', '3am', '4am', '5am', '6am', '7am', '8am', '9am', '10am', '11am',\n",
    "#         '12pm', '1pm', '2pm', '3pm', '4pm', '5pm', '6pm', '7pm', '8pm', '9pm', '10pm', '11pm']\n",
    "hours = ['12am', '1', '2', '3', '4', '5', '6', '7', '8', '9', '10', '11',\n",
    "        '12pm', '1', '2', '3', '4', '5', '6', '7', '8', '9', '10', '11pm']\n",
    "sf_bikes.groupby(sf_bikes.start_time.dt.hour).bike_id.count().plot(kind='bar', color = base_color);\n",
    "# get the plot axes information\n",
    "ax = plt.gca()\n",
    "# get xtick positions\n",
    "pos = ax.get_xticks().tolist()\n",
    "# get xtick labels\n",
    "labs = ax.get_xticklabels()\n",
    "# change the xticks\n",
    "plt.xticks(pos,hours, rotation = 'horizontal')\n",
    "plt.xlabel('Start Time')\n",
    "plt.ylabel('Number of Trips');"
   ]
  },
  {
   "cell_type": "markdown",
   "metadata": {},
   "source": [
    "## Usage by Month"
   ]
  },
  {
   "cell_type": "code",
   "execution_count": null,
   "metadata": {},
   "outputs": [],
   "source": [
    "base_color = sb.color_palette()[7] \n",
    "months = ['Jan', 'Feb', 'Mar', 'Apr', 'May', 'June', 'July', 'Aug', 'Sept', 'Oct', 'Nov', 'Dec']\n",
    "sf_bikes.groupby(sf_bikes.start_time.dt.month).bike_id.count().plot(kind='bar', color = base_color)\n",
    "# get the plot axes information\n",
    "ax = plt.gca()\n",
    "# get xtick positions\n",
    "pos = ax.get_xticks().tolist()\n",
    "# get xtick labels\n",
    "labs = ax.get_xticklabels()\n",
    "# change the xticks\n",
    "plt.xticks(pos,months, rotation = '45')\n",
    "plt.xlabel('')\n",
    "plt.ylabel('Number of Trips');"
   ]
  },
  {
   "cell_type": "markdown",
   "metadata": {},
   "source": [
    "## Heat Map of Trip Duration by Age"
   ]
  },
  {
   "cell_type": "code",
   "execution_count": null,
   "metadata": {},
   "outputs": [],
   "source": [
    "plt.hist2d(data = sf_bikes, x = 'age', y = 'duration_min',\n",
    "           bins = [bins_x, bins_y], cmap = 'viridis_r', cmin = 35)\n",
    "plt.colorbar()\n",
    "plt.xlim(20, 60)\n",
    "plt.ylim(0, 35);"
   ]
  },
  {
   "cell_type": "markdown",
   "metadata": {},
   "source": [
    "## Subscription Type Difference Clearly Illustrated by Trip Duration Spread"
   ]
  },
  {
   "cell_type": "code",
   "execution_count": null,
   "metadata": {},
   "outputs": [],
   "source": [
    "plt.figure(figsize = (12, 6))\n",
    "ax = sb.barplot(data = sf_bikes, x = 'month', y = 'duration_min', hue = 'user_type')\n",
    "ax.legend(loc = 0, ncol = 3, framealpha = 1, title = 'User Type', bbox_to_anchor = (1.0, 0.5));\n",
    "plt.xticks(rotation = 15);"
   ]
  },
  {
   "cell_type": "markdown",
   "metadata": {},
   "source": [
    "## AM Commute Last Mile Conveyed by Heat Map"
   ]
  },
  {
   "cell_type": "code",
   "execution_count": null,
   "metadata": {},
   "outputs": [],
   "source": [
    "bikes_short = AM.sample(3000, replace=True)\n",
    "\n",
    "# grab image of SF map\n",
    "sf = folium.Map(location=[37.775204, -122.418747],\n",
    "                    zoom_start = 13) \n",
    "# build df to plug into heatmap func from sampled data to make processing faster\n",
    "heat_df = bikes_short[['start_station_latitude', 'start_station_longitude']]\n",
    "heat_df = bikes_short.dropna(axis=0, subset=['start_station_latitude', 'start_station_longitude'])\n",
    "\n",
    "# List comprehension to make out list of lists\n",
    "heat_data = [[row['start_station_latitude'],row['start_station_longitude']] for index, row in heat_df.iterrows()]\n",
    "\n",
    "# Plot it on the map\n",
    "HeatMap(heat_data).add_to(sf)\n",
    "\n",
    "# Display the map\n",
    "sf"
   ]
  },
  {
   "cell_type": "code",
   "execution_count": null,
   "metadata": {},
   "outputs": [],
   "source": [
    "# sample smaller set for easier loading\n",
    "AM_end = AM.sample(3000, replace=True)\n",
    "\n",
    "# grab image of SF map\n",
    "sf = folium.Map(location=[37.775204, -122.418747], zoom_start = 13) \n",
    "# build df to plug into heatmap func from sampled data to make processing faster\n",
    "heat_df = PM_end[['end_station_latitude', 'end_station_longitude']]\n",
    "heat_df = PM_end.dropna(axis=0, subset=['end_station_latitude', 'end_station_longitude'])\n",
    "# List comprehension to make out list of lists\n",
    "heat_data = [[row['end_station_latitude'],row['end_station_longitude']] for index, row in heat_df.iterrows()]\n",
    "\n",
    "# Plot it on the map and display\n",
    "HeatMap(heat_data).add_to(sf)\n",
    "sf"
   ]
  }
 ],
 "metadata": {
  "kernelspec": {
   "display_name": "Python 3",
   "language": "python",
   "name": "python3"
  },
  "language_info": {
   "codemirror_mode": {
    "name": "ipython",
    "version": 3
   },
   "file_extension": ".py",
   "mimetype": "text/x-python",
   "name": "python",
   "nbconvert_exporter": "python",
   "pygments_lexer": "ipython3",
   "version": "3.6.7"
  }
 },
 "nbformat": 4,
 "nbformat_minor": 2
}
