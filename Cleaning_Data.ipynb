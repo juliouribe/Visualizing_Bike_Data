{
 "cells": [
  {
   "cell_type": "code",
   "execution_count": 25,
   "metadata": {},
   "outputs": [],
   "source": [
    "# prerequisite package imports\n",
    "import numpy as np\n",
    "import pandas as pd\n",
    "import matplotlib.pyplot as plt\n",
    "import seaborn as sb\n",
    "\n",
    "%matplotlib inline"
   ]
  },
  {
   "cell_type": "code",
   "execution_count": 47,
   "metadata": {},
   "outputs": [],
   "source": [
    "def load_data(x, bikes):\n",
    "    y = str(x)\n",
    "    if x < 10:\n",
    "        file = '20180'+y+'-fordgobike-tripdata.csv'\n",
    "    elif x >=10:\n",
    "        file = '2018'+y+'-fordgobike-tripdata.csv'\n",
    "    bikes = bikes.append(pd.read_csv(file))\n",
    "    print (x, bikes.shape)"
   ]
  },
  {
   "cell_type": "code",
   "execution_count": 55,
   "metadata": {},
   "outputs": [
    {
     "name": "stdout",
     "output_type": "stream",
     "text": [
      "starting (94802, 16)\n",
      "ending (1863721, 16)\n"
     ]
    }
   ],
   "source": [
    "bikes = pd.read_csv(\"201801-fordgobike-tripdata.csv\")\n",
    "print('starting', bikes.shape)\n",
    "for i in range(11):\n",
    "    x = i+2\n",
    "    y = str(x)\n",
    "    if x < 10:\n",
    "        file = \"20180\"+y+\"-fordgobike-tripdata.csv\"\n",
    "    elif x >=10:\n",
    "        file = \"2018\"+y+\"-fordgobike-tripdata.csv\"\n",
    "    bikes = bikes.append(pd.read_csv(file))\n",
    "\n",
    "print('ending', bikes.shape)"
   ]
  },
  {
   "cell_type": "code",
   "execution_count": 45,
   "metadata": {},
   "outputs": [
    {
     "data": {
      "text/plain": [
       "(1970439, 16)"
      ]
     },
     "execution_count": 45,
     "metadata": {},
     "output_type": "execute_result"
    }
   ],
   "source": [
    "bikes = pd.read_csv(\"201801-fordgobike-tripdata.csv\")\n",
    "bikes = bikes.append(pd.read_csv(\"201802-fordgobike-tripdata.csv\"))\n",
    "bikes = bikes.append(pd.read_csv(\"201803-fordgobike-tripdata.csv\"))\n",
    "bikes = bikes.append(pd.read_csv(\"201804-fordgobike-tripdata.csv\"))\n",
    "bikes = bikes.append(pd.read_csv(\"201805-fordgobike-tripdata.csv\"))\n",
    "bikes = bikes.append(pd.read_csv(\"201806-fordgobike-tripdata.csv\"))\n",
    "bikes = bikes.append(pd.read_csv(\"201807-fordgobike-tripdata.csv\"))\n",
    "bikes = bikes.append(pd.read_csv(\"201808-fordgobike-tripdata.csv\"))\n",
    "bikes = bikes.append(pd.read_csv(\"201809-fordgobike-tripdata.csv\"))\n",
    "bikes = bikes.append(pd.read_csv(\"201810-fordgobike-tripdata.csv\"))\n",
    "bikes = bikes.append(pd.read_csv(\"201811-fordgobike-tripdata.csv\"))\n",
    "bikes = bikes.append(pd.read_csv(\"201812-fordgobike-tripdata.csv\"))\n",
    "bikes.shape"
   ]
  },
  {
   "cell_type": "code",
   "execution_count": 53,
   "metadata": {},
   "outputs": [],
   "source": [
    "x = 3\n",
    "file = '20180'+str(x)+'-fordgobike-tripdata.csv'\n",
    "file\n",
    "bikes = bikes.append(pd.read_csv(file))"
   ]
  },
  {
   "cell_type": "code",
   "execution_count": 54,
   "metadata": {},
   "outputs": [
    {
     "data": {
      "text/plain": [
       "(1508147, 16)"
      ]
     },
     "execution_count": 54,
     "metadata": {},
     "output_type": "execute_result"
    }
   ],
   "source": [
    "bikes.shape"
   ]
  },
  {
   "cell_type": "code",
   "execution_count": null,
   "metadata": {},
   "outputs": [],
   "source": []
  }
 ],
 "metadata": {
  "kernelspec": {
   "display_name": "Python 3",
   "language": "python",
   "name": "python3"
  },
  "language_info": {
   "codemirror_mode": {
    "name": "ipython",
    "version": 3
   },
   "file_extension": ".py",
   "mimetype": "text/x-python",
   "name": "python",
   "nbconvert_exporter": "python",
   "pygments_lexer": "ipython3",
   "version": "3.6.7"
  }
 },
 "nbformat": 4,
 "nbformat_minor": 2
}
